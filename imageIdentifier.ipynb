{
  "nbformat": 4,
  "nbformat_minor": 0,
  "metadata": {
    "colab": {
      "name": "Copia de Untitled0.ipynb",
      "version": "0.3.2",
      "provenance": []
    },
    "kernelspec": {
      "name": "python3",
      "display_name": "Python 3"
    },
    "accelerator": "GPU"
  },
  "cells": [
    {
      "cell_type": "markdown",
      "metadata": {
        "id": "2O8zPk8s2di4",
        "colab_type": "text"
      },
      "source": [
        "# Reconocedor de piezas de lego.\n",
        "\n",
        "Vamos a desarrollar una red que reconozca piezas de lego. Para ello, vamos a utilizar un dataset contenido en nuestra cuenta de Google Drive. Antes, debemos montar nuestro sistema de archivos de Google Drive para hacerlo accesible desde este notebook. Google nos solicitará permiso, tenemos que copiar y pegar el código que nos suministra."
      ]
    },
    {
      "cell_type": "code",
      "metadata": {
        "id": "DO4QZGfaZAPj",
        "colab_type": "code",
        "colab": {}
      },
      "source": [
        "from google.colab import drive\n",
        "drive.mount('/content/drive')"
      ],
      "execution_count": 0,
      "outputs": []
    },
    {
      "cell_type": "markdown",
      "metadata": {
        "id": "zjhiuyEB209f",
        "colab_type": "text"
      },
      "source": [
        "Ahora ya es accesible"
      ]
    },
    {
      "cell_type": "markdown",
      "metadata": {
        "id": "sJZ-CCwPZUJL",
        "colab_type": "text"
      },
      "source": [
        "¿Estoy realmente utilizando una GPU? Compruébalo en Editar / Configuración del cuaderno o Entorno de ejecuación / Cambiar tipo de entorno de ejecución\n",
        "\n"
      ]
    },
    {
      "cell_type": "code",
      "metadata": {
        "id": "uxKWIa9OZZXU",
        "colab_type": "code",
        "outputId": "bf372ffa-0280-496e-93fa-0a54eaa18b15",
        "colab": {
          "base_uri": "https://localhost:8080/",
          "height": 302
        }
      },
      "source": [
        "!ls \"/content/drive/My Drive/Practica 3 FSI\"\n",
        "from matplotlib.pyplot import imshow\n",
        "import numpy as np\n",
        "from PIL import Image\n",
        "\n",
        "%matplotlib inline\n",
        "pil_im = Image.open('/content/drive/My Drive/Practica 3 FSI/LEGO brick images/train/3005 Brick 1x1/0001.png', 'r')\n",
        "imshow(np.asarray(pil_im))"
      ],
      "execution_count": 3,
      "outputs": [
        {
          "output_type": "stream",
          "text": [
            "'LEGO brick images'   Untitled0.ipynb\n"
          ],
          "name": "stdout"
        },
        {
          "output_type": "execute_result",
          "data": {
            "text/plain": [
              "<matplotlib.image.AxesImage at 0x7f9685c98748>"
            ]
          },
          "metadata": {
            "tags": []
          },
          "execution_count": 3
        },
        {
          "output_type": "display_data",
          "data": {
            "image/png": "[encoded data removed]",
            "text/plain": [
              "<Figure size 432x288 with 1 Axes>"
            ]
          },
          "metadata": {
            "tags": []
          }
        }
      ]
    },
    {
      "cell_type": "code",
      "metadata": {
        "id": "thj-DfBr2jKD",
        "colab_type": "code",
        "outputId": "80a81c6b-e468-4b15-b9c9-85f629e6b7e1",
        "colab": {
          "base_uri": "https://localhost:8080/",
          "height": 34
        }
      },
      "source": [
        "import tensorflow as tf\n",
        "tf.test.gpu_device_name()"
      ],
      "execution_count": 4,
      "outputs": [
        {
          "output_type": "execute_result",
          "data": {
            "text/plain": [
              "'/device:GPU:0'"
            ]
          },
          "metadata": {
            "tags": []
          },
          "execution_count": 4
        }
      ]
    },
    {
      "cell_type": "markdown",
      "metadata": {
        "id": "C0vr7DHt28NQ",
        "colab_type": "text"
      },
      "source": [
        "## **PRIMER MODELO**"
      ]
    },
    {
      "cell_type": "code",
      "metadata": {
        "id": "W353J2BD2prT",
        "colab_type": "code",
        "outputId": "6826e4ef-4bbf-4995-809e-d4bba2f374d4",
        "colab": {
          "base_uri": "https://localhost:8080/",
          "height": 742
        }
      },
      "source": [
        "from keras.preprocessing.image import ImageDataGenerator\n",
        "from keras.models import Sequential\n",
        "from keras.layers import Dense, Dropout\n",
        "from keras.optimizers import RMSprop\n",
        "from keras.layers import Dense, Dropout, Flatten\n",
        "from keras.layers import Conv2D, MaxPooling2D\n",
        "from keras import backend as K\n",
        "import keras\n",
        "from time import time\n",
        "\n",
        "\n",
        "# DATA SOURCE --------------------------------------------------\n",
        "\n",
        "batch_size = 320\n",
        "\n",
        "train_data_dir = '/content/drive/My Drive/Practica 3 FSI/LEGO brick images/train'\n",
        "validation_data_dir = '/content/drive/My Drive/Practica 3 FSI/LEGO brick images/valid'\n",
        "\n",
        "train_datagen = ImageDataGenerator(rescale=1./255,\n",
        "                                  shear_range=0.2,\n",
        "                                  zoom_range=0.2,\n",
        "                                  horizontal_flip=True)\n",
        "\n",
        "test_datagen = ImageDataGenerator(rescale=1./255)\n",
        "\n",
        "train_generator = train_datagen.flow_from_directory(\n",
        "        train_data_dir,\n",
        "        target_size=(150, 150),\n",
        "        batch_size=batch_size,\n",
        "        class_mode='categorical')\n",
        "\n",
        "validation_generator = test_datagen.flow_from_directory(\n",
        "        validation_data_dir,\n",
        "        target_size=(150, 150),\n",
        "        batch_size=32,\n",
        "        class_mode='categorical')\n",
        "\n",
        "# MODEL --------------------------------------------------\n",
        "\n",
        "model = Sequential()\n",
        "model.add(Conv2D(32, kernel_size=(3, 3),\n",
        "                 activation='relu',\n",
        "                 input_shape=(150, 150, 3)))\n",
        "model.add(MaxPooling2D(pool_size=(2, 2)))\n",
        "model.add(Conv2D(64, (3, 3), activation='relu'))\n",
        "model.add(MaxPooling2D(pool_size=(2, 2)))\n",
        "model.add(Dropout(0.25))\n",
        "model.add(Flatten())\n",
        "model.add(Dense(128, activation='relu'))\n",
        "model.add(Dropout(0.5))\n",
        "model.add(Dense(16, activation='softmax'))\n",
        "\n",
        "model.compile(loss=keras.losses.categorical_crossentropy,\n",
        "              optimizer=keras.optimizers.Adadelta(),\n",
        "              metrics=['accuracy'])\n",
        "\n",
        "# TRAINING --------------------------------------------------\n",
        "\n",
        "epochs = 15\n",
        "\n",
        "model.fit_generator(\n",
        "        train_generator,\n",
        "        steps_per_epoch=100,\n",
        "        epochs=epochs, \n",
        "        validation_data=validation_generator,\n",
        "        validation_steps=800,\n",
        ")"
      ],
      "execution_count": 6,
      "outputs": [
        {
          "output_type": "stream",
          "text": [
            "Found 6379 images belonging to 16 classes.\n",
            "Found 6379 images belonging to 16 classes.\n",
            "WARNING:tensorflow:From /usr/local/lib/python3.6/dist-packages/tensorflow/python/framework/op_def_library.py:263: colocate_with (from tensorflow.python.framework.ops) is deprecated and will be removed in a future version.\n",
            "Instructions for updating:\n",
            "Colocations handled automatically by placer.\n",
            "WARNING:tensorflow:From /usr/local/lib/python3.6/dist-packages/keras/backend/tensorflow_backend.py:3445: calling dropout (from tensorflow.python.ops.nn_ops) with keep_prob is deprecated and will be removed in a future version.\n",
            "Instructions for updating:\n",
            "Please use `rate` instead of `keep_prob`. Rate should be set to `rate = 1 - keep_prob`.\n",
            "WARNING:tensorflow:From /usr/local/lib/python3.6/dist-packages/tensorflow/python/ops/math_ops.py:3066: to_int32 (from tensorflow.python.ops.math_ops) is deprecated and will be removed in a future version.\n",
            "Instructions for updating:\n",
            "Use tf.cast instead.\n",
            "Epoch 1/15\n",
            "100/100 [==============================] - 4761s 48s/step - loss: 1.7378 - acc: 0.4087 - val_loss: 0.8038 - val_acc: 0.7438\n",
            "Epoch 2/15\n",
            "100/100 [==============================] - 249s 2s/step - loss: 1.1665 - acc: 0.5840 - val_loss: 0.5155 - val_acc: 0.8255\n",
            "Epoch 3/15\n",
            "100/100 [==============================] - 248s 2s/step - loss: 0.9619 - acc: 0.6462 - val_loss: 0.4410 - val_acc: 0.8539\n",
            "Epoch 4/15\n",
            "100/100 [==============================] - 247s 2s/step - loss: 0.8377 - acc: 0.6898 - val_loss: 0.3593 - val_acc: 0.8754\n",
            "Epoch 5/15\n",
            "100/100 [==============================] - 245s 2s/step - loss: 0.7492 - acc: 0.7218 - val_loss: 0.3020 - val_acc: 0.8948\n",
            "Epoch 6/15\n",
            "100/100 [==============================] - 244s 2s/step - loss: 0.6804 - acc: 0.7461 - val_loss: 0.2407 - val_acc: 0.9233\n",
            "Epoch 7/15\n",
            "100/100 [==============================] - 245s 2s/step - loss: 0.6339 - acc: 0.7634 - val_loss: 0.2149 - val_acc: 0.9229\n",
            "Epoch 8/15\n",
            "100/100 [==============================] - 246s 2s/step - loss: 0.5864 - acc: 0.7798 - val_loss: 0.1904 - val_acc: 0.9423\n",
            "Epoch 9/15\n",
            "100/100 [==============================] - 246s 2s/step - loss: 0.5558 - acc: 0.7914 - val_loss: 0.1753 - val_acc: 0.9458\n",
            "Epoch 10/15\n",
            "100/100 [==============================] - 245s 2s/step - loss: 0.5201 - acc: 0.8013 - val_loss: 0.1556 - val_acc: 0.9484\n",
            "Epoch 11/15\n",
            "100/100 [==============================] - 241s 2s/step - loss: 0.4886 - acc: 0.8138 - val_loss: 0.1410 - val_acc: 0.9544\n",
            "Epoch 12/15\n",
            "100/100 [==============================] - 242s 2s/step - loss: 0.4565 - acc: 0.8257 - val_loss: 0.1167 - val_acc: 0.9633\n",
            "Epoch 13/15\n",
            "100/100 [==============================] - 243s 2s/step - loss: 0.4358 - acc: 0.8327 - val_loss: 0.1158 - val_acc: 0.9674\n",
            "Epoch 14/15\n",
            "100/100 [==============================] - 237s 2s/step - loss: 0.4140 - acc: 0.8433 - val_loss: 0.1117 - val_acc: 0.9627\n",
            "Epoch 15/15\n",
            "100/100 [==============================] - 236s 2s/step - loss: 0.3955 - acc: 0.8477 - val_loss: 0.0963 - val_acc: 0.9679\n"
          ],
          "name": "stdout"
        },
        {
          "output_type": "execute_result",
          "data": {
            "text/plain": [
              "<keras.callbacks.History at 0x7f96cea0dc88>"
            ]
          },
          "metadata": {
            "tags": []
          },
          "execution_count": 6
        }
      ]
    }
  ]
}